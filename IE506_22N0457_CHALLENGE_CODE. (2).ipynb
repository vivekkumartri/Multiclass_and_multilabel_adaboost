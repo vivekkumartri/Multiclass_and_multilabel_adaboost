{
 "cells": [
  {
   "cell_type": "code",
   "execution_count": 31,
   "metadata": {
    "id": "tV_kSMZlhht8"
   },
   "outputs": [],
   "source": [
    "import numpy as np\n",
    "import pandas as pd\n",
    "import seaborn as sns\n",
    "import matplotlib.pyplot as plt\n",
    "from sklearn import metrics\n",
    "from sklearn.metrics import accuracy_score"
   ]
  },
  {
   "cell_type": "code",
   "execution_count": 32,
   "metadata": {
    "id": "VA-1yAo7hr9V"
   },
   "outputs": [],
   "source": [
    "data=pd.read_csv(\"/home/22n0457/multilabel_train_data.txt\",sep=' ',header=None)"
   ]
  },
  {
   "cell_type": "code",
   "execution_count": 33,
   "metadata": {
    "colab": {
     "base_uri": "https://localhost:8080/",
     "height": 487
    },
    "id": "oIrpykuckEV4",
    "outputId": "567a164e-0145-4d33-8bd8-a4fae22c9f35"
   },
   "outputs": [
    {
     "data": {
      "text/html": [
       "<div>\n",
       "<style scoped>\n",
       "    .dataframe tbody tr th:only-of-type {\n",
       "        vertical-align: middle;\n",
       "    }\n",
       "\n",
       "    .dataframe tbody tr th {\n",
       "        vertical-align: top;\n",
       "    }\n",
       "\n",
       "    .dataframe thead th {\n",
       "        text-align: right;\n",
       "    }\n",
       "</style>\n",
       "<table border=\"1\" class=\"dataframe\">\n",
       "  <thead>\n",
       "    <tr style=\"text-align: right;\">\n",
       "      <th></th>\n",
       "      <th>0</th>\n",
       "      <th>1</th>\n",
       "      <th>2</th>\n",
       "      <th>3</th>\n",
       "      <th>4</th>\n",
       "      <th>5</th>\n",
       "      <th>6</th>\n",
       "      <th>7</th>\n",
       "      <th>8</th>\n",
       "      <th>9</th>\n",
       "      <th>...</th>\n",
       "      <th>95</th>\n",
       "      <th>96</th>\n",
       "      <th>97</th>\n",
       "      <th>98</th>\n",
       "      <th>99</th>\n",
       "      <th>100</th>\n",
       "      <th>101</th>\n",
       "      <th>102</th>\n",
       "      <th>103</th>\n",
       "      <th>104</th>\n",
       "    </tr>\n",
       "  </thead>\n",
       "  <tbody>\n",
       "    <tr>\n",
       "      <th>0</th>\n",
       "      <td>6,7,11,12</td>\n",
       "      <td>1:-0.011858</td>\n",
       "      <td>2:-0.061636</td>\n",
       "      <td>3:0.054392</td>\n",
       "      <td>4:0.021137</td>\n",
       "      <td>5:0.089374</td>\n",
       "      <td>6:0.101825</td>\n",
       "      <td>7:-0.044525</td>\n",
       "      <td>8:0.222330</td>\n",
       "      <td>9:0.015575</td>\n",
       "      <td>...</td>\n",
       "      <td>95:-0.032930</td>\n",
       "      <td>96:-0.030487</td>\n",
       "      <td>97:0.009813</td>\n",
       "      <td>98:-0.002603</td>\n",
       "      <td>99:0.049288</td>\n",
       "      <td>100:-0.046913</td>\n",
       "      <td>101:-0.000844</td>\n",
       "      <td>102:0.004983</td>\n",
       "      <td>103:0.115765</td>\n",
       "      <td>NaN</td>\n",
       "    </tr>\n",
       "    <tr>\n",
       "      <th>1</th>\n",
       "      <td>3,4,11,12</td>\n",
       "      <td>1:-0.018183</td>\n",
       "      <td>2:-0.045645</td>\n",
       "      <td>3:0.002001</td>\n",
       "      <td>4:0.066467</td>\n",
       "      <td>5:-0.118108</td>\n",
       "      <td>6:0.105399</td>\n",
       "      <td>7:0.004705</td>\n",
       "      <td>8:0.046744</td>\n",
       "      <td>9:-0.060929</td>\n",
       "      <td>...</td>\n",
       "      <td>95:-0.159394</td>\n",
       "      <td>96:0.125488</td>\n",
       "      <td>97:-0.149774</td>\n",
       "      <td>98:-0.148373</td>\n",
       "      <td>99:0.135500</td>\n",
       "      <td>100:0.047781</td>\n",
       "      <td>101:0.079903</td>\n",
       "      <td>102:0.065097</td>\n",
       "      <td>103:-0.165039</td>\n",
       "      <td>NaN</td>\n",
       "    </tr>\n",
       "    <tr>\n",
       "      <th>2</th>\n",
       "      <td>4,5,6,7,10,11,12</td>\n",
       "      <td>1:0.074145</td>\n",
       "      <td>2:-0.044487</td>\n",
       "      <td>3:0.048191</td>\n",
       "      <td>4:-0.006614</td>\n",
       "      <td>5:0.042746</td>\n",
       "      <td>6:0.025960</td>\n",
       "      <td>7:0.021290</td>\n",
       "      <td>8:0.041714</td>\n",
       "      <td>9:0.048671</td>\n",
       "      <td>...</td>\n",
       "      <td>95:0.145222</td>\n",
       "      <td>96:-0.102574</td>\n",
       "      <td>97:0.143100</td>\n",
       "      <td>98:0.135860</td>\n",
       "      <td>99:-0.098214</td>\n",
       "      <td>100:-0.104915</td>\n",
       "      <td>101:-0.085630</td>\n",
       "      <td>102:0.174316</td>\n",
       "      <td>103:-0.022570</td>\n",
       "      <td>NaN</td>\n",
       "    </tr>\n",
       "    <tr>\n",
       "      <th>3</th>\n",
       "      <td>1,2,9,10</td>\n",
       "      <td>1:0.044432</td>\n",
       "      <td>2:-0.007842</td>\n",
       "      <td>3:0.018440</td>\n",
       "      <td>4:0.036639</td>\n",
       "      <td>5:0.243409</td>\n",
       "      <td>6:0.154859</td>\n",
       "      <td>7:0.128655</td>\n",
       "      <td>8:0.122329</td>\n",
       "      <td>9:0.004179</td>\n",
       "      <td>...</td>\n",
       "      <td>95:0.011885</td>\n",
       "      <td>96:-0.052333</td>\n",
       "      <td>97:-0.056184</td>\n",
       "      <td>98:-0.056243</td>\n",
       "      <td>99:-0.049476</td>\n",
       "      <td>100:-0.056670</td>\n",
       "      <td>101:0.120910</td>\n",
       "      <td>102:-0.028053</td>\n",
       "      <td>103:0.086152</td>\n",
       "      <td>NaN</td>\n",
       "    </tr>\n",
       "    <tr>\n",
       "      <th>4</th>\n",
       "      <td>1,2,11,12</td>\n",
       "      <td>1:0.051570</td>\n",
       "      <td>2:-0.016571</td>\n",
       "      <td>3:0.014702</td>\n",
       "      <td>4:0.024296</td>\n",
       "      <td>5:0.155760</td>\n",
       "      <td>6:0.048347</td>\n",
       "      <td>7:-0.031283</td>\n",
       "      <td>8:0.133782</td>\n",
       "      <td>9:0.085081</td>\n",
       "      <td>...</td>\n",
       "      <td>95:-0.086031</td>\n",
       "      <td>96:-0.098521</td>\n",
       "      <td>97:-0.086622</td>\n",
       "      <td>98:-0.091729</td>\n",
       "      <td>99:0.210266</td>\n",
       "      <td>100:0.110243</td>\n",
       "      <td>101:0.140546</td>\n",
       "      <td>102:0.182154</td>\n",
       "      <td>103:-0.101904</td>\n",
       "      <td>NaN</td>\n",
       "    </tr>\n",
       "    <tr>\n",
       "      <th>...</th>\n",
       "      <td>...</td>\n",
       "      <td>...</td>\n",
       "      <td>...</td>\n",
       "      <td>...</td>\n",
       "      <td>...</td>\n",
       "      <td>...</td>\n",
       "      <td>...</td>\n",
       "      <td>...</td>\n",
       "      <td>...</td>\n",
       "      <td>...</td>\n",
       "      <td>...</td>\n",
       "      <td>...</td>\n",
       "      <td>...</td>\n",
       "      <td>...</td>\n",
       "      <td>...</td>\n",
       "      <td>...</td>\n",
       "      <td>...</td>\n",
       "      <td>...</td>\n",
       "      <td>...</td>\n",
       "      <td>...</td>\n",
       "      <td>...</td>\n",
       "    </tr>\n",
       "    <tr>\n",
       "      <th>1495</th>\n",
       "      <td>0,1,11,12</td>\n",
       "      <td>1:-0.116754</td>\n",
       "      <td>2:-0.017859</td>\n",
       "      <td>3:-0.051158</td>\n",
       "      <td>4:0.015938</td>\n",
       "      <td>5:0.015013</td>\n",
       "      <td>6:0.121055</td>\n",
       "      <td>7:-0.099059</td>\n",
       "      <td>8:0.023402</td>\n",
       "      <td>9:0.005873</td>\n",
       "      <td>...</td>\n",
       "      <td>95:-0.125292</td>\n",
       "      <td>96:0.177598</td>\n",
       "      <td>97:-0.127144</td>\n",
       "      <td>98:-0.126141</td>\n",
       "      <td>99:0.046453</td>\n",
       "      <td>100:-0.070558</td>\n",
       "      <td>101:0.138768</td>\n",
       "      <td>102:-0.039471</td>\n",
       "      <td>103:-0.016383</td>\n",
       "      <td>NaN</td>\n",
       "    </tr>\n",
       "    <tr>\n",
       "      <th>1496</th>\n",
       "      <td>3,4,11,12</td>\n",
       "      <td>1:0.085234</td>\n",
       "      <td>2:0.049690</td>\n",
       "      <td>3:0.134850</td>\n",
       "      <td>4:0.091247</td>\n",
       "      <td>5:0.239547</td>\n",
       "      <td>6:0.140304</td>\n",
       "      <td>7:0.166942</td>\n",
       "      <td>8:0.050181</td>\n",
       "      <td>9:0.126451</td>\n",
       "      <td>...</td>\n",
       "      <td>95:0.071134</td>\n",
       "      <td>96:-0.041950</td>\n",
       "      <td>97:0.076210</td>\n",
       "      <td>98:0.077935</td>\n",
       "      <td>99:-0.040123</td>\n",
       "      <td>100:-0.056090</td>\n",
       "      <td>101:-0.052238</td>\n",
       "      <td>102:-0.020390</td>\n",
       "      <td>103:0.085778</td>\n",
       "      <td>NaN</td>\n",
       "    </tr>\n",
       "    <tr>\n",
       "      <th>1497</th>\n",
       "      <td>3,4,11,12</td>\n",
       "      <td>1:0.074028</td>\n",
       "      <td>2:0.014501</td>\n",
       "      <td>3:-0.041893</td>\n",
       "      <td>4:0.030209</td>\n",
       "      <td>5:-0.061547</td>\n",
       "      <td>6:0.022142</td>\n",
       "      <td>7:-0.022888</td>\n",
       "      <td>8:0.023375</td>\n",
       "      <td>9:0.073267</td>\n",
       "      <td>...</td>\n",
       "      <td>95:0.158470</td>\n",
       "      <td>96:-0.061079</td>\n",
       "      <td>97:0.188122</td>\n",
       "      <td>98:0.182037</td>\n",
       "      <td>99:-0.056295</td>\n",
       "      <td>100:-0.075996</td>\n",
       "      <td>101:-0.072424</td>\n",
       "      <td>102:-0.039109</td>\n",
       "      <td>103:0.019538</td>\n",
       "      <td>NaN</td>\n",
       "    </tr>\n",
       "    <tr>\n",
       "      <th>1498</th>\n",
       "      <td>7,8</td>\n",
       "      <td>1:-0.058193</td>\n",
       "      <td>2:0.502205</td>\n",
       "      <td>3:-0.081411</td>\n",
       "      <td>4:-0.033651</td>\n",
       "      <td>5:0.001250</td>\n",
       "      <td>6:0.086514</td>\n",
       "      <td>7:-0.005469</td>\n",
       "      <td>8:0.033748</td>\n",
       "      <td>9:0.007124</td>\n",
       "      <td>...</td>\n",
       "      <td>95:-0.000601</td>\n",
       "      <td>96:-0.050850</td>\n",
       "      <td>97:-0.038719</td>\n",
       "      <td>98:0.178632</td>\n",
       "      <td>99:0.151786</td>\n",
       "      <td>100:-0.062065</td>\n",
       "      <td>101:-0.017584</td>\n",
       "      <td>102:0.498207</td>\n",
       "      <td>103:-0.072177</td>\n",
       "      <td>NaN</td>\n",
       "    </tr>\n",
       "    <tr>\n",
       "      <th>1499</th>\n",
       "      <td>9,10,11,12</td>\n",
       "      <td>1:-0.128468</td>\n",
       "      <td>2:-0.003593</td>\n",
       "      <td>3:0.039187</td>\n",
       "      <td>4:0.032379</td>\n",
       "      <td>5:-0.006359</td>\n",
       "      <td>6:-0.049659</td>\n",
       "      <td>7:-0.147537</td>\n",
       "      <td>8:-0.092815</td>\n",
       "      <td>9:0.050572</td>\n",
       "      <td>...</td>\n",
       "      <td>95:-0.044238</td>\n",
       "      <td>96:-0.065766</td>\n",
       "      <td>97:-0.062276</td>\n",
       "      <td>98:-0.069627</td>\n",
       "      <td>99:-0.010034</td>\n",
       "      <td>100:0.086035</td>\n",
       "      <td>101:-0.062728</td>\n",
       "      <td>102:-0.048271</td>\n",
       "      <td>103:-0.124432</td>\n",
       "      <td>NaN</td>\n",
       "    </tr>\n",
       "  </tbody>\n",
       "</table>\n",
       "<p>1500 rows × 105 columns</p>\n",
       "</div>"
      ],
      "text/plain": [
       "                   0            1            2            3            4    \\\n",
       "0            6,7,11,12  1:-0.011858  2:-0.061636   3:0.054392   4:0.021137   \n",
       "1            3,4,11,12  1:-0.018183  2:-0.045645   3:0.002001   4:0.066467   \n",
       "2     4,5,6,7,10,11,12   1:0.074145  2:-0.044487   3:0.048191  4:-0.006614   \n",
       "3             1,2,9,10   1:0.044432  2:-0.007842   3:0.018440   4:0.036639   \n",
       "4            1,2,11,12   1:0.051570  2:-0.016571   3:0.014702   4:0.024296   \n",
       "...                ...          ...          ...          ...          ...   \n",
       "1495         0,1,11,12  1:-0.116754  2:-0.017859  3:-0.051158   4:0.015938   \n",
       "1496         3,4,11,12   1:0.085234   2:0.049690   3:0.134850   4:0.091247   \n",
       "1497         3,4,11,12   1:0.074028   2:0.014501  3:-0.041893   4:0.030209   \n",
       "1498               7,8  1:-0.058193   2:0.502205  3:-0.081411  4:-0.033651   \n",
       "1499        9,10,11,12  1:-0.128468  2:-0.003593   3:0.039187   4:0.032379   \n",
       "\n",
       "              5            6            7            8            9    ...  \\\n",
       "0      5:0.089374   6:0.101825  7:-0.044525   8:0.222330   9:0.015575  ...   \n",
       "1     5:-0.118108   6:0.105399   7:0.004705   8:0.046744  9:-0.060929  ...   \n",
       "2      5:0.042746   6:0.025960   7:0.021290   8:0.041714   9:0.048671  ...   \n",
       "3      5:0.243409   6:0.154859   7:0.128655   8:0.122329   9:0.004179  ...   \n",
       "4      5:0.155760   6:0.048347  7:-0.031283   8:0.133782   9:0.085081  ...   \n",
       "...           ...          ...          ...          ...          ...  ...   \n",
       "1495   5:0.015013   6:0.121055  7:-0.099059   8:0.023402   9:0.005873  ...   \n",
       "1496   5:0.239547   6:0.140304   7:0.166942   8:0.050181   9:0.126451  ...   \n",
       "1497  5:-0.061547   6:0.022142  7:-0.022888   8:0.023375   9:0.073267  ...   \n",
       "1498   5:0.001250   6:0.086514  7:-0.005469   8:0.033748   9:0.007124  ...   \n",
       "1499  5:-0.006359  6:-0.049659  7:-0.147537  8:-0.092815   9:0.050572  ...   \n",
       "\n",
       "               95            96            97            98            99   \\\n",
       "0     95:-0.032930  96:-0.030487   97:0.009813  98:-0.002603   99:0.049288   \n",
       "1     95:-0.159394   96:0.125488  97:-0.149774  98:-0.148373   99:0.135500   \n",
       "2      95:0.145222  96:-0.102574   97:0.143100   98:0.135860  99:-0.098214   \n",
       "3      95:0.011885  96:-0.052333  97:-0.056184  98:-0.056243  99:-0.049476   \n",
       "4     95:-0.086031  96:-0.098521  97:-0.086622  98:-0.091729   99:0.210266   \n",
       "...            ...           ...           ...           ...           ...   \n",
       "1495  95:-0.125292   96:0.177598  97:-0.127144  98:-0.126141   99:0.046453   \n",
       "1496   95:0.071134  96:-0.041950   97:0.076210   98:0.077935  99:-0.040123   \n",
       "1497   95:0.158470  96:-0.061079   97:0.188122   98:0.182037  99:-0.056295   \n",
       "1498  95:-0.000601  96:-0.050850  97:-0.038719   98:0.178632   99:0.151786   \n",
       "1499  95:-0.044238  96:-0.065766  97:-0.062276  98:-0.069627  99:-0.010034   \n",
       "\n",
       "                100            101            102            103 104  \n",
       "0     100:-0.046913  101:-0.000844   102:0.004983   103:0.115765 NaN  \n",
       "1      100:0.047781   101:0.079903   102:0.065097  103:-0.165039 NaN  \n",
       "2     100:-0.104915  101:-0.085630   102:0.174316  103:-0.022570 NaN  \n",
       "3     100:-0.056670   101:0.120910  102:-0.028053   103:0.086152 NaN  \n",
       "4      100:0.110243   101:0.140546   102:0.182154  103:-0.101904 NaN  \n",
       "...             ...            ...            ...            ...  ..  \n",
       "1495  100:-0.070558   101:0.138768  102:-0.039471  103:-0.016383 NaN  \n",
       "1496  100:-0.056090  101:-0.052238  102:-0.020390   103:0.085778 NaN  \n",
       "1497  100:-0.075996  101:-0.072424  102:-0.039109   103:0.019538 NaN  \n",
       "1498  100:-0.062065  101:-0.017584   102:0.498207  103:-0.072177 NaN  \n",
       "1499   100:0.086035  101:-0.062728  102:-0.048271  103:-0.124432 NaN  \n",
       "\n",
       "[1500 rows x 105 columns]"
      ]
     },
     "execution_count": 33,
     "metadata": {},
     "output_type": "execute_result"
    }
   ],
   "source": [
    "data"
   ]
  },
  {
   "cell_type": "code",
   "execution_count": 34,
   "metadata": {
    "colab": {
     "base_uri": "https://localhost:8080/"
    },
    "id": "was86LOtmxav",
    "outputId": "8159e941-ed91-43f7-b365-7ac4121bb337"
   },
   "outputs": [
    {
     "name": "stdout",
     "output_type": "stream",
     "text": [
      "number of classes is 14\n"
     ]
    }
   ],
   "source": [
    "k=0\n",
    "for i in range(data.shape[0]):\n",
    "  for j in data.iloc[i,0].split(\",\"):\n",
    "    if int(j)>=k:\n",
    "      k=int(j)\n",
    "print('number of classes is',k+1)    "
   ]
  },
  {
   "cell_type": "code",
   "execution_count": 35,
   "metadata": {
    "id": "62oMnt2xnUUs"
   },
   "outputs": [],
   "source": [
    "k=0\n",
    "for i in range(data.shape[0]):\n",
    "  for k in range(104):\n",
    "    if len(data.iloc[i,k].split(\":\"))==2:\n",
    "      p,q=data.iloc[i,k].split(\":\")\n",
    "      if int(p)==0:\n",
    "        print(\"0'th feature is available\")\n",
    "      if int(p)>=k:\n",
    "        k=int(p)"
   ]
  },
  {
   "cell_type": "code",
   "execution_count": 36,
   "metadata": {
    "colab": {
     "base_uri": "https://localhost:8080/"
    },
    "id": "3hywp3k4nPur",
    "outputId": "ac34248d-d45b-46c1-d1e6-43fe6a99643a"
   },
   "outputs": [
    {
     "name": "stdout",
     "output_type": "stream",
     "text": [
      "number of feature in data is 103\n"
     ]
    }
   ],
   "source": [
    "print('number of feature in data is',k)"
   ]
  },
  {
   "cell_type": "code",
   "execution_count": 37,
   "metadata": {
    "id": "HcwXljwqifGC"
   },
   "outputs": [],
   "source": [
    "x=[]\n",
    "y=[]\n",
    "for i in range(data.shape[0]):\n",
    "  x_=[0 for _ in range(103)]\n",
    "  y_=[-1.0 for i in range(14)]\n",
    "  for j in data.iloc[i,0].split(\",\"):\n",
    "    y_[int(j)]=1.0\n",
    "  y.append(y_)\n",
    "  for k in range(103):\n",
    "    if len(data.iloc[i,k+1].split(\":\"))==2:\n",
    "      p,q=data.iloc[i,k+1].split(\":\")\n",
    "      x_[int(p)-1]=float(q)\n",
    "  x.append(x_)\n"
   ]
  },
  {
   "cell_type": "code",
   "execution_count": 38,
   "metadata": {
    "id": "htJuOfhlkS-v"
   },
   "outputs": [],
   "source": [
    "X_train=pd.DataFrame(x)"
   ]
  },
  {
   "cell_type": "code",
   "execution_count": 39,
   "metadata": {
    "id": "7rJePCOvlABz"
   },
   "outputs": [],
   "source": [
    "y_train=pd.DataFrame(y)"
   ]
  },
  {
   "cell_type": "code",
   "execution_count": 40,
   "metadata": {
    "colab": {
     "base_uri": "https://localhost:8080/",
     "height": 393
    },
    "id": "OwcPQbhAogsi",
    "outputId": "3916b932-c56e-40d1-c0db-3dd53e676f61"
   },
   "outputs": [
    {
     "data": {
      "text/html": [
       "<div>\n",
       "<style scoped>\n",
       "    .dataframe tbody tr th:only-of-type {\n",
       "        vertical-align: middle;\n",
       "    }\n",
       "\n",
       "    .dataframe tbody tr th {\n",
       "        vertical-align: top;\n",
       "    }\n",
       "\n",
       "    .dataframe thead th {\n",
       "        text-align: right;\n",
       "    }\n",
       "</style>\n",
       "<table border=\"1\" class=\"dataframe\">\n",
       "  <thead>\n",
       "    <tr style=\"text-align: right;\">\n",
       "      <th></th>\n",
       "      <th>0</th>\n",
       "      <th>1</th>\n",
       "      <th>2</th>\n",
       "      <th>3</th>\n",
       "      <th>4</th>\n",
       "      <th>5</th>\n",
       "      <th>6</th>\n",
       "      <th>7</th>\n",
       "      <th>8</th>\n",
       "      <th>9</th>\n",
       "      <th>...</th>\n",
       "      <th>93</th>\n",
       "      <th>94</th>\n",
       "      <th>95</th>\n",
       "      <th>96</th>\n",
       "      <th>97</th>\n",
       "      <th>98</th>\n",
       "      <th>99</th>\n",
       "      <th>100</th>\n",
       "      <th>101</th>\n",
       "      <th>102</th>\n",
       "    </tr>\n",
       "  </thead>\n",
       "  <tbody>\n",
       "    <tr>\n",
       "      <th>count</th>\n",
       "      <td>1500.000000</td>\n",
       "      <td>1500.000000</td>\n",
       "      <td>1500.000000</td>\n",
       "      <td>1500.000000</td>\n",
       "      <td>1500.000000</td>\n",
       "      <td>1500.000000</td>\n",
       "      <td>1500.000000</td>\n",
       "      <td>1500.000000</td>\n",
       "      <td>1500.000000</td>\n",
       "      <td>1500.000000</td>\n",
       "      <td>...</td>\n",
       "      <td>1500.000000</td>\n",
       "      <td>1500.000000</td>\n",
       "      <td>1500.000000</td>\n",
       "      <td>1500.000000</td>\n",
       "      <td>1500.000000</td>\n",
       "      <td>1500.000000</td>\n",
       "      <td>1500.000000</td>\n",
       "      <td>1500.000000</td>\n",
       "      <td>1500.000000</td>\n",
       "      <td>1500.000000</td>\n",
       "    </tr>\n",
       "    <tr>\n",
       "      <th>mean</th>\n",
       "      <td>0.000353</td>\n",
       "      <td>-0.001520</td>\n",
       "      <td>-0.001909</td>\n",
       "      <td>-0.002978</td>\n",
       "      <td>-0.000532</td>\n",
       "      <td>-0.002823</td>\n",
       "      <td>0.001210</td>\n",
       "      <td>0.000519</td>\n",
       "      <td>0.003572</td>\n",
       "      <td>0.000608</td>\n",
       "      <td>...</td>\n",
       "      <td>-0.000753</td>\n",
       "      <td>0.001761</td>\n",
       "      <td>-0.002835</td>\n",
       "      <td>0.002865</td>\n",
       "      <td>0.001722</td>\n",
       "      <td>-0.001969</td>\n",
       "      <td>-0.001541</td>\n",
       "      <td>-0.001492</td>\n",
       "      <td>-0.001554</td>\n",
       "      <td>0.007882</td>\n",
       "    </tr>\n",
       "    <tr>\n",
       "      <th>std</th>\n",
       "      <td>0.095389</td>\n",
       "      <td>0.094026</td>\n",
       "      <td>0.096681</td>\n",
       "      <td>0.096793</td>\n",
       "      <td>0.096658</td>\n",
       "      <td>0.095889</td>\n",
       "      <td>0.098152</td>\n",
       "      <td>0.096910</td>\n",
       "      <td>0.096702</td>\n",
       "      <td>0.096203</td>\n",
       "      <td>...</td>\n",
       "      <td>0.094309</td>\n",
       "      <td>0.098443</td>\n",
       "      <td>0.094916</td>\n",
       "      <td>0.097962</td>\n",
       "      <td>0.097334</td>\n",
       "      <td>0.092869</td>\n",
       "      <td>0.097411</td>\n",
       "      <td>0.091851</td>\n",
       "      <td>0.093894</td>\n",
       "      <td>0.098463</td>\n",
       "    </tr>\n",
       "    <tr>\n",
       "      <th>min</th>\n",
       "      <td>-0.371146</td>\n",
       "      <td>-0.321144</td>\n",
       "      <td>-0.334314</td>\n",
       "      <td>-0.467945</td>\n",
       "      <td>-0.367044</td>\n",
       "      <td>-0.378560</td>\n",
       "      <td>-0.319928</td>\n",
       "      <td>-0.594498</td>\n",
       "      <td>-0.340749</td>\n",
       "      <td>-0.767128</td>\n",
       "      <td>...</td>\n",
       "      <td>-0.455191</td>\n",
       "      <td>-0.283594</td>\n",
       "      <td>-0.279408</td>\n",
       "      <td>-0.219918</td>\n",
       "      <td>-0.222457</td>\n",
       "      <td>-0.501572</td>\n",
       "      <td>-0.236589</td>\n",
       "      <td>-0.212692</td>\n",
       "      <td>-0.188325</td>\n",
       "      <td>-0.237752</td>\n",
       "    </tr>\n",
       "    <tr>\n",
       "      <th>25%</th>\n",
       "      <td>-0.054173</td>\n",
       "      <td>-0.059860</td>\n",
       "      <td>-0.057889</td>\n",
       "      <td>-0.061129</td>\n",
       "      <td>-0.060298</td>\n",
       "      <td>-0.061527</td>\n",
       "      <td>-0.058879</td>\n",
       "      <td>-0.062143</td>\n",
       "      <td>-0.057009</td>\n",
       "      <td>-0.060628</td>\n",
       "      <td>...</td>\n",
       "      <td>-0.054639</td>\n",
       "      <td>-0.057316</td>\n",
       "      <td>-0.057760</td>\n",
       "      <td>-0.058172</td>\n",
       "      <td>-0.057687</td>\n",
       "      <td>-0.053600</td>\n",
       "      <td>-0.064135</td>\n",
       "      <td>-0.059555</td>\n",
       "      <td>-0.057445</td>\n",
       "      <td>-0.074951</td>\n",
       "    </tr>\n",
       "    <tr>\n",
       "      <th>50%</th>\n",
       "      <td>0.006249</td>\n",
       "      <td>-0.004677</td>\n",
       "      <td>0.002054</td>\n",
       "      <td>-0.002050</td>\n",
       "      <td>0.003846</td>\n",
       "      <td>-0.004726</td>\n",
       "      <td>0.003024</td>\n",
       "      <td>0.003138</td>\n",
       "      <td>0.007208</td>\n",
       "      <td>0.003295</td>\n",
       "      <td>...</td>\n",
       "      <td>-0.012529</td>\n",
       "      <td>-0.022989</td>\n",
       "      <td>-0.024255</td>\n",
       "      <td>-0.021893</td>\n",
       "      <td>-0.021002</td>\n",
       "      <td>-0.017600</td>\n",
       "      <td>-0.034039</td>\n",
       "      <td>-0.023320</td>\n",
       "      <td>-0.013547</td>\n",
       "      <td>0.020297</td>\n",
       "    </tr>\n",
       "    <tr>\n",
       "      <th>75%</th>\n",
       "      <td>0.057060</td>\n",
       "      <td>0.045315</td>\n",
       "      <td>0.058905</td>\n",
       "      <td>0.050307</td>\n",
       "      <td>0.065514</td>\n",
       "      <td>0.057876</td>\n",
       "      <td>0.069973</td>\n",
       "      <td>0.062779</td>\n",
       "      <td>0.067854</td>\n",
       "      <td>0.063001</td>\n",
       "      <td>...</td>\n",
       "      <td>0.029015</td>\n",
       "      <td>0.042645</td>\n",
       "      <td>0.029925</td>\n",
       "      <td>0.048655</td>\n",
       "      <td>0.045165</td>\n",
       "      <td>0.021717</td>\n",
       "      <td>0.036108</td>\n",
       "      <td>0.026676</td>\n",
       "      <td>0.028467</td>\n",
       "      <td>0.102639</td>\n",
       "    </tr>\n",
       "    <tr>\n",
       "      <th>max</th>\n",
       "      <td>0.520272</td>\n",
       "      <td>0.502205</td>\n",
       "      <td>0.336984</td>\n",
       "      <td>0.478658</td>\n",
       "      <td>0.307649</td>\n",
       "      <td>0.335827</td>\n",
       "      <td>0.351401</td>\n",
       "      <td>0.454591</td>\n",
       "      <td>0.419852</td>\n",
       "      <td>0.420876</td>\n",
       "      <td>...</td>\n",
       "      <td>0.609175</td>\n",
       "      <td>0.445030</td>\n",
       "      <td>0.547134</td>\n",
       "      <td>0.379989</td>\n",
       "      <td>0.540493</td>\n",
       "      <td>0.494193</td>\n",
       "      <td>0.509963</td>\n",
       "      <td>0.587358</td>\n",
       "      <td>0.700340</td>\n",
       "      <td>0.156625</td>\n",
       "    </tr>\n",
       "  </tbody>\n",
       "</table>\n",
       "<p>8 rows × 103 columns</p>\n",
       "</div>"
      ],
      "text/plain": [
       "               0            1            2            3            4    \\\n",
       "count  1500.000000  1500.000000  1500.000000  1500.000000  1500.000000   \n",
       "mean      0.000353    -0.001520    -0.001909    -0.002978    -0.000532   \n",
       "std       0.095389     0.094026     0.096681     0.096793     0.096658   \n",
       "min      -0.371146    -0.321144    -0.334314    -0.467945    -0.367044   \n",
       "25%      -0.054173    -0.059860    -0.057889    -0.061129    -0.060298   \n",
       "50%       0.006249    -0.004677     0.002054    -0.002050     0.003846   \n",
       "75%       0.057060     0.045315     0.058905     0.050307     0.065514   \n",
       "max       0.520272     0.502205     0.336984     0.478658     0.307649   \n",
       "\n",
       "               5            6            7            8            9    ...  \\\n",
       "count  1500.000000  1500.000000  1500.000000  1500.000000  1500.000000  ...   \n",
       "mean     -0.002823     0.001210     0.000519     0.003572     0.000608  ...   \n",
       "std       0.095889     0.098152     0.096910     0.096702     0.096203  ...   \n",
       "min      -0.378560    -0.319928    -0.594498    -0.340749    -0.767128  ...   \n",
       "25%      -0.061527    -0.058879    -0.062143    -0.057009    -0.060628  ...   \n",
       "50%      -0.004726     0.003024     0.003138     0.007208     0.003295  ...   \n",
       "75%       0.057876     0.069973     0.062779     0.067854     0.063001  ...   \n",
       "max       0.335827     0.351401     0.454591     0.419852     0.420876  ...   \n",
       "\n",
       "               93           94           95           96           97   \\\n",
       "count  1500.000000  1500.000000  1500.000000  1500.000000  1500.000000   \n",
       "mean     -0.000753     0.001761    -0.002835     0.002865     0.001722   \n",
       "std       0.094309     0.098443     0.094916     0.097962     0.097334   \n",
       "min      -0.455191    -0.283594    -0.279408    -0.219918    -0.222457   \n",
       "25%      -0.054639    -0.057316    -0.057760    -0.058172    -0.057687   \n",
       "50%      -0.012529    -0.022989    -0.024255    -0.021893    -0.021002   \n",
       "75%       0.029015     0.042645     0.029925     0.048655     0.045165   \n",
       "max       0.609175     0.445030     0.547134     0.379989     0.540493   \n",
       "\n",
       "               98           99           100          101          102  \n",
       "count  1500.000000  1500.000000  1500.000000  1500.000000  1500.000000  \n",
       "mean     -0.001969    -0.001541    -0.001492    -0.001554     0.007882  \n",
       "std       0.092869     0.097411     0.091851     0.093894     0.098463  \n",
       "min      -0.501572    -0.236589    -0.212692    -0.188325    -0.237752  \n",
       "25%      -0.053600    -0.064135    -0.059555    -0.057445    -0.074951  \n",
       "50%      -0.017600    -0.034039    -0.023320    -0.013547     0.020297  \n",
       "75%       0.021717     0.036108     0.026676     0.028467     0.102639  \n",
       "max       0.494193     0.509963     0.587358     0.700340     0.156625  \n",
       "\n",
       "[8 rows x 103 columns]"
      ]
     },
     "execution_count": 40,
     "metadata": {},
     "output_type": "execute_result"
    }
   ],
   "source": [
    "X_train.describe()"
   ]
  },
  {
   "cell_type": "code",
   "execution_count": 41,
   "metadata": {
    "colab": {
     "base_uri": "https://localhost:8080/",
     "height": 465
    },
    "id": "6vACaAqKqNAT",
    "outputId": "4f010b3e-3326-4d51-9829-e94905cdfe4d"
   },
   "outputs": [
    {
     "data": {
      "text/plain": [
       "<AxesSubplot:>"
      ]
     },
     "execution_count": 41,
     "metadata": {},
     "output_type": "execute_result"
    },
    {
     "data": {
      "image/png": "[encoded data removed]",
      "text/plain": [
       "<Figure size 432x288 with 2 Axes>"
      ]
     },
     "metadata": {
      "needs_background": "light"
     },
     "output_type": "display_data"
    }
   ],
   "source": [
    "sns.heatmap(X_train.corr())"
   ]
  },
  {
   "cell_type": "code",
   "execution_count": 42,
   "metadata": {
    "id": "6OEHXnj6zsSV"
   },
   "outputs": [],
   "source": [
    "from sklearn.model_selection import train_test_split\n",
    "X_train, X_test, y_train, y_test = train_test_split( X_train, y_train, test_size=0.20, random_state=42)"
   ]
  },
  {
   "cell_type": "code",
   "execution_count": 43,
   "metadata": {
    "id": "5N0YiaK-zsUs"
   },
   "outputs": [],
   "source": [
    "def accuracy(y_prediction, y_actual):\n",
    "    total_score = 0\n",
    "    for pred, actual in zip(y_prediction, y_actual):\n",
    "        intersect = np.intersect1d(pred,actual)\n",
    "        union = np.union1d(pred,actual)\n",
    "        score = len(intersect) / len(union) if len(union) > 0 else 0\n",
    "        total_score += score\n",
    "\n",
    "    return total_score / len(y_actual) if len(y_actual) > 0 else 0"
   ]
  },
  {
   "cell_type": "code",
   "execution_count": 44,
   "metadata": {
    "id": "Lksh_r5ezsZb"
   },
   "outputs": [],
   "source": [
    "def F1_score(y_prediction, y_actual):\n",
    "    n = len(y_actual)\n",
    "    intersection = [len(pred & act) for pred, act in zip(y_prediction, y_actual)]\n",
    "    denominator = [len(pred) + len(act) for pred, act in zip(y_prediction, y_actual)]\n",
    "    numerator = sum(intersection)\n",
    "    return (1 / n) * sum(numerator / denom for numerator, denom in zip(intersection, denominator))"
   ]
  },
  {
   "cell_type": "code",
   "execution_count": 45,
   "metadata": {
    "id": "5Yj1j9KsEH9Z"
   },
   "outputs": [],
   "source": [
    "from sklearn.tree import DecisionTreeClassifier"
   ]
  },
  {
   "cell_type": "code",
   "execution_count": 46,
   "metadata": {
    "id": "cutf9hTqMqGm"
   },
   "outputs": [],
   "source": [
    "def Adaboost_fit(data_X, data_y, rounds):\n",
    "    n = len(data_X)\n",
    "    d = data_X.shape[1]\n",
    "    w = np.full((n,), 1/n)\n",
    "    weight = [w]\n",
    "    alpha=[]\n",
    "    epsilon=[]\n",
    "    T = rounds\n",
    "    classifiers = []\n",
    "    y_preds = []\n",
    "    \n",
    "    for t in range(T):\n",
    "        weak_classifier = DecisionTreeClassifier(max_depth=2)\n",
    "        weak_classifier.fit(data_X, data_y, sample_weight=w)\n",
    "        classifiers.append(weak_classifier)\n",
    "        y_pred = weak_classifier.predict(data_X)\n",
    "        y_preds.append(y_pred)\n",
    "        epsilon_ = np.sum(w * (y_pred != data_y))\n",
    "        epsilon.append(epsilon_)\n",
    "        if epsilon_==0:\n",
    "          break\n",
    "        alpha_ = 0.5 * np.log((1 - epsilon_) / epsilon_)\n",
    "        alpha.append(alpha_)\n",
    "        exp_term = np.exp(-alpha_ * data_y * y_pred)\n",
    "        w *= exp_term / np.sum(w * exp_term)\n",
    "        weight.append(w)\n",
    "        \n",
    "    return alpha, weight, epsilon, classifiers"
   ]
  },
  {
   "cell_type": "code",
   "execution_count": 47,
   "metadata": {
    "id": "SDjk5Na3IuBq"
   },
   "outputs": [],
   "source": [
    "def AdaBoost_pred(data_X,alpha,classifiers):\n",
    "  T=len(alpha)\n",
    "  n=len(data_X)\n",
    "  predictions=[]\n",
    "  for i in range(T):\n",
    "    predictions.append(classifiers[i].predict(data_X))\n",
    "  pred=np.zeros(n)  \n",
    "  for i in range(T):\n",
    "    pred=pred+alpha[i]*predictions[i]\n",
    "  return np.sign(pred)"
   ]
  },
  {
   "cell_type": "code",
   "execution_count": 48,
   "metadata": {
    "id": "kjbGbiPTPmeX"
   },
   "outputs": [],
   "source": [
    "label_arr=np.arange(14)"
   ]
  },
  {
   "cell_type": "code",
   "execution_count": 49,
   "metadata": {
    "id": "iYyxM96cOm2F"
   },
   "outputs": [],
   "source": [
    "import numpy as np\n",
    "\n",
    "def multitask_adaboost(X_train,y_train,X_test,y_test, k_values):\n",
    "    seed_values = [0]\n",
    "    results = []\n",
    "    for k in k_values:\n",
    "        f1_list = []\n",
    "        acc_list = []\n",
    "        global pred\n",
    "        pred = pd.DataFrame()\n",
    "        for i in range(14):\n",
    "            y = y_train.iloc[:, i]\n",
    "            alphas, weights, epsilons, classifiers = Adaboost_fit(X_train, y, k)\n",
    "            y_pred = AdaBoost_pred(X_test, alphas, classifiers)\n",
    "            pred[i]=y_pred\n",
    "        f1_score = F1_score(pred.values.astype(int),y_test.values.astype(int))\n",
    "        acc = accuracy(pred.values.astype(int),y_test.values.astype(int))\n",
    "        results.append([k,f1_score,acc])\n",
    "    return k_values[np.argmax(np.array(results)[:,1])],k_values[np.argmax(np.array(results)[:,2])],np.array(results)[:,1],np.array(results)[:,2]\n"
   ]
  },
  {
   "cell_type": "code",
   "execution_count": 50,
   "metadata": {
    "colab": {
     "base_uri": "https://localhost:8080/"
    },
    "id": "mcDG8_VCGHGz",
    "outputId": "309f6bbc-154e-423f-9d2f-eb651ec6ca9f"
   },
   "outputs": [],
   "source": [
    "best_k,k,f1_score,accuracy_sco=multitask_adaboost(X_train,y_train,X_test,y_test,[100,120,140,160,180,200,220,240,260,280,300])"
   ]
  },
  {
   "cell_type": "code",
   "execution_count": 51,
   "metadata": {},
   "outputs": [
    {
     "data": {
      "image/png": "[encoded data removed]",
      "text/plain": [
       "<Figure size 432x288 with 1 Axes>"
      ]
     },
     "metadata": {
      "needs_background": "light"
     },
     "output_type": "display_data"
    }
   ],
   "source": [
    "plt.plot([100,120,140,160,180,200,220,240,260,280,300],accuracy_sco)\n",
    "plt.xlabel(\"k value\")\n",
    "plt.ylabel(\"accuracy\")\n",
    "plt.show()"
   ]
  },
  {
   "cell_type": "code",
   "execution_count": 52,
   "metadata": {},
   "outputs": [
    {
     "data": {
      "image/png": "[encoded data removed]",
      "text/plain": [
       "<Figure size 432x288 with 1 Axes>"
      ]
     },
     "metadata": {
      "needs_background": "light"
     },
     "output_type": "display_data"
    }
   ],
   "source": [
    "plt.plot([100,120,140,160,180,200,220,240,260,280,300],f1_score)\n",
    "plt.xlabel(\"k value\")\n",
    "plt.ylabel(\"f1_score\")\n",
    "plt.show()"
   ]
  },
  {
   "cell_type": "code",
   "execution_count": 53,
   "metadata": {
    "id": "YfP1DUPbzsl2"
   },
   "outputs": [],
   "source": [
    "def multitask_Adaboost_training_model(data_X,data_y,k=best_k):\n",
    "  alphas_labels=[]\n",
    "  classifiers_labels=[]\n",
    "  for i in range(14):\n",
    "    y=data_y.iloc[:,i]\n",
    "    alphas,weights,epsilons,classifiers=Adaboost_fit(data_X,y,k)\n",
    "    y_pred=AdaBoost_pred(data_X,alphas,classifiers)\n",
    "    accuracy=accuracy_score(y_pred,np.array(y))\n",
    "    print(f'on train data with label{i}',accuracy)\n",
    "    alphas_labels.append(alphas)\n",
    "    classifiers_labels.append(classifiers)\n",
    "  return alphas_labels,classifiers_labels "
   ]
  },
  {
   "cell_type": "code",
   "execution_count": 54,
   "metadata": {
    "id": "X7E419v5mPx8"
   },
   "outputs": [
    {
     "name": "stdout",
     "output_type": "stream",
     "text": [
      "on train data with label0 0.9591666666666666\n",
      "on train data with label1 0.91\n",
      "on train data with label2 0.9458333333333333\n",
      "on train data with label3 0.965\n",
      "on train data with label4 0.9633333333333334\n",
      "on train data with label5 0.9441666666666667\n",
      "on train data with label6 0.9858333333333333\n",
      "on train data with label7 0.9825\n",
      "on train data with label8 1.0\n",
      "on train data with label9 1.0\n",
      "on train data with label10 0.9991666666666666\n",
      "on train data with label11 0.9475\n",
      "on train data with label12 0.9\n",
      "on train data with label13 1.0\n"
     ]
    }
   ],
   "source": [
    "alphas_labels,classifiers_labels=multitask_Adaboost_training_model(X_train,y_train)"
   ]
  },
  {
   "cell_type": "code",
   "execution_count": 55,
   "metadata": {
    "id": "mMi_kJgDzspD"
   },
   "outputs": [],
   "source": [
    "def multitask_Adaboost_test_model(data_X,data_y,alphas=alphas_labels,classifiers=classifiers_labels):\n",
    "  pred=pd.DataFrame()\n",
    "  for i in range(14):\n",
    "    alphas_lab=alphas[i]\n",
    "    classifiers_lab=classifiers[i]\n",
    "    y_pred=AdaBoost_pred(data_X,alphas_lab,classifiers_lab)\n",
    "    print(f'individual accuracy of label {i}',accuracy_score(y_pred,data_y.iloc[:,i]))\n",
    "    pred[i]=y_pred\n",
    "  return pred  "
   ]
  },
  {
   "cell_type": "code",
   "execution_count": 56,
   "metadata": {
    "id": "vkioDsOEzstv"
   },
   "outputs": [
    {
     "name": "stdout",
     "output_type": "stream",
     "text": [
      "individual accuracy of label 0 0.7633333333333333\n",
      "individual accuracy of label 1 0.62\n",
      "individual accuracy of label 2 0.76\n",
      "individual accuracy of label 3 0.72\n",
      "individual accuracy of label 4 0.7166666666666667\n",
      "individual accuracy of label 5 0.7866666666666666\n",
      "individual accuracy of label 6 0.8433333333333334\n",
      "individual accuracy of label 7 0.7733333333333333\n",
      "individual accuracy of label 8 0.9133333333333333\n",
      "individual accuracy of label 9 0.8833333333333333\n",
      "individual accuracy of label 10 0.89\n",
      "individual accuracy of label 11 0.7333333333333333\n",
      "individual accuracy of label 12 0.68\n",
      "individual accuracy of label 13 0.98\n",
      "accuracy is: 0.9983333333333333\n",
      "f1 score is: 0.5\n"
     ]
    }
   ],
   "source": [
    "predict=multitask_Adaboost_test_model(X_test,y_test)\n",
    "print('accuracy is:',accuracy(predict.values.astype(int),y_test.values.astype(int)))\n",
    "print('f1 score is:',F1_score(predict.values.astype(int),y_test.values.astype(int)))"
   ]
  },
  {
   "cell_type": "code",
   "execution_count": 57,
   "metadata": {
    "id": "yixExHQMtwE4"
   },
   "outputs": [],
   "source": [
    "test=pd.read_csv(\"/home/22n0457/sample_multilabel_test_data.txt\",sep=' ',header=None)"
   ]
  },
  {
   "cell_type": "code",
   "execution_count": 58,
   "metadata": {
    "id": "4pVUNhfmt_h1"
   },
   "outputs": [],
   "source": [
    "x=[]\n",
    "y=[]\n",
    "for i in range(test.shape[0]):\n",
    "  x_=[0 for _ in range(103)]\n",
    "  y_=[-1 for i in range(14)]\n",
    "  for j in test.iloc[i,0].split(\",\"):\n",
    "    y_[int(j)]=1\n",
    "  y.append(y_)\n",
    "  for k in range(103):\n",
    "    if len(test.iloc[i,k+1].split(\":\"))==2:\n",
    "      p,q=test.iloc[i,k+1].split(\":\")\n",
    "      x_[int(p)-1]=float(q)\n",
    "  x.append(x_)"
   ]
  },
  {
   "cell_type": "code",
   "execution_count": 59,
   "metadata": {
    "id": "UpnE299uuEp6"
   },
   "outputs": [],
   "source": [
    "X_test=pd.DataFrame(x)\n",
    "y_test=pd.DataFrame(y)"
   ]
  },
  {
   "cell_type": "code",
   "execution_count": 60,
   "metadata": {
    "id": "EQlpzP3jnGBE"
   },
   "outputs": [
    {
     "name": "stdout",
     "output_type": "stream",
     "text": [
      "on train data with label0 0.9591666666666666\n",
      "on train data with label1 0.91\n",
      "on train data with label2 0.9458333333333333\n",
      "on train data with label3 0.965\n",
      "on train data with label4 0.9633333333333334\n",
      "on train data with label5 0.9441666666666667\n",
      "on train data with label6 0.9858333333333333\n",
      "on train data with label7 0.9825\n",
      "on train data with label8 1.0\n",
      "on train data with label9 1.0\n",
      "on train data with label10 0.9991666666666666\n",
      "on train data with label11 0.9475\n",
      "on train data with label12 0.9\n",
      "on train data with label13 1.0\n"
     ]
    }
   ],
   "source": [
    "alphas_labels,classifiers_labels=multitask_Adaboost_training_model(X_train,y_train)"
   ]
  },
  {
   "cell_type": "code",
   "execution_count": 62,
   "metadata": {
    "id": "YIZlNxN0nLpw"
   },
   "outputs": [
    {
     "name": "stdout",
     "output_type": "stream",
     "text": [
      "individual accuracy of label 0 0.8\n",
      "individual accuracy of label 1 0.58\n",
      "individual accuracy of label 2 0.76\n",
      "individual accuracy of label 3 0.64\n",
      "individual accuracy of label 4 0.68\n",
      "individual accuracy of label 5 0.58\n",
      "individual accuracy of label 6 0.78\n",
      "individual accuracy of label 7 0.82\n",
      "individual accuracy of label 8 0.98\n",
      "individual accuracy of label 9 0.84\n",
      "individual accuracy of label 10 0.82\n",
      "individual accuracy of label 11 0.6\n",
      "individual accuracy of label 12 0.62\n",
      "individual accuracy of label 13 0.98\n",
      "accuracy is: 1.0\n",
      "f1 score is: 0.5\n"
     ]
    }
   ],
   "source": [
    "predict=multitask_Adaboost_test_model(X_test,y_test,alphas_labels,classifiers_labels)\n",
    "print('accuracy is:',accuracy(predict.values.astype(int),y_test.values.astype(int)))\n",
    "print('f1 score is:',F1_score(predict.values.astype(int),y_test.values.astype(int)))"
   ]
  },
  {
   "cell_type": "code",
   "execution_count": 86,
   "metadata": {
    "id": "cz-eRKEyn5ap"
   },
   "outputs": [],
   "source": [
    "def testing(file_name):\n",
    "    test=pd.read_csv(file_name,sep=' ',header=None)\n",
    "    x=[]\n",
    "    y=[]\n",
    "    for i in range(test.shape[0]):\n",
    "      x_=[0 for _ in range(103)]\n",
    "      y_=[-1 for i in range(14)]\n",
    "      for j in test.iloc[i,0].split(\",\"):\n",
    "        y_[int(j)]=1\n",
    "      y.append(y_)\n",
    "      for k in range(103):\n",
    "        if len(test.iloc[i,k+1].split(\":\"))==2:\n",
    "          p,q=test.iloc[i,k+1].split(\":\")\n",
    "          x_[int(p)-1]=float(q)\n",
    "      x.append(x_)\n",
    "    X_test=pd.DataFrame(x)\n",
    "    y_test=pd.DataFrame(y)\n",
    "    predict=multitask_Adaboost_test_model(X_test,y_test,alphas_labels,classifiers_labels)\n",
    "    print('accuracy is:',accuracy(predict.values.astype(int),y_test.values.astype(int)))\n",
    "    print('f1 score is:',F1_score(predict.values.astype(int),y_test.values.astype(int)))"
   ]
  },
  {
   "cell_type": "code",
   "execution_count": 95,
   "metadata": {},
   "outputs": [
    {
     "name": "stdout",
     "output_type": "stream",
     "text": [
      "individual accuracy of label 0 0.8\n",
      "individual accuracy of label 1 0.58\n",
      "individual accuracy of label 2 0.76\n",
      "individual accuracy of label 3 0.64\n",
      "individual accuracy of label 4 0.68\n",
      "individual accuracy of label 5 0.58\n",
      "individual accuracy of label 6 0.78\n",
      "individual accuracy of label 7 0.82\n",
      "individual accuracy of label 8 0.98\n",
      "individual accuracy of label 9 0.84\n",
      "individual accuracy of label 10 0.82\n",
      "individual accuracy of label 11 0.6\n",
      "individual accuracy of label 12 0.62\n",
      "individual accuracy of label 13 0.98\n",
      "accuracy is: 1.0\n",
      "f1 score is: 0.5\n"
     ]
    }
   ],
   "source": [
    " testing(\"/home/22n0457/sample_multilabel_test_data.txt\")"
   ]
  },
  {
   "cell_type": "code",
   "execution_count": 88,
   "metadata": {},
   "outputs": [],
   "source": [
    "import pickle"
   ]
  },
  {
   "cell_type": "code",
   "execution_count": 121,
   "metadata": {},
   "outputs": [],
   "source": [
    "with open('/home/22n0457/IE506_22N0457_CHALLENGE_MODEL.pkl' ,'wb') as f:\n",
    "    pickle.dump({\"classifier\":classifiers_labels,'alpha':alphas_labels}, f)"
   ]
  },
  {
   "cell_type": "code",
   "execution_count": 122,
   "metadata": {},
   "outputs": [],
   "source": [
    "with open('/home/22n0457/IE506_22N0457_CHALLENGE_MODEL.pkl', 'rb') as f:\n",
    "    vi = pickle.load(f)"
   ]
  },
  {
   "cell_type": "markdown",
   "metadata": {},
   "source": [
    "# Run the below code and give test Data File Location and pkl File Location in testing Function To see Output "
   ]
  },
  {
   "cell_type": "code",
   "execution_count": 110,
   "metadata": {},
   "outputs": [],
   "source": [
    "import pickle\n",
    "import numpy as np\n",
    "import pandas as pd\n",
    "import seaborn as sns\n",
    "import matplotlib.pyplot as plt\n",
    "from sklearn import metrics\n",
    "from sklearn.metrics import accuracy_score\n",
    "from sklearn.tree import DecisionTreeClassifier"
   ]
  },
  {
   "cell_type": "code",
   "execution_count": 111,
   "metadata": {},
   "outputs": [],
   "source": [
    "def accuracy(y_prediction, y_actual):\n",
    "    total_score = 0\n",
    "    for pred, actual in zip(y_prediction, y_actual):\n",
    "        intersect = np.intersect1d(pred,actual)\n",
    "        union = np.union1d(pred,actual)\n",
    "        score = len(intersect) / len(union) if len(union) > 0 else 0\n",
    "        total_score += score\n",
    "\n",
    "    return total_score / len(y_actual) if len(y_actual) > 0 else 0"
   ]
  },
  {
   "cell_type": "code",
   "execution_count": 112,
   "metadata": {},
   "outputs": [],
   "source": [
    "def F1_score(y_prediction, y_actual):\n",
    "    n = len(y_actual)\n",
    "    intersection = [len(pred & act) for pred, act in zip(y_prediction, y_actual)]\n",
    "    denominator = [len(pred) + len(act) for pred, act in zip(y_prediction, y_actual)]\n",
    "    numerator = sum(intersection)\n",
    "    return (1 / n) * sum(numerator / denom for numerator, denom in zip(intersection, denominator))"
   ]
  },
  {
   "cell_type": "code",
   "execution_count": 113,
   "metadata": {},
   "outputs": [],
   "source": [
    "def multitask_Adaboost_test_model(data_X,data_y,alphas=alphas_labels,classifiers=classifiers_labels):\n",
    "  pred=pd.DataFrame()\n",
    "  for i in range(14):\n",
    "    alphas_lab=alphas[i]\n",
    "    classifiers_lab=classifiers[i]\n",
    "    y_pred=AdaBoost_pred(data_X,alphas_lab,classifiers_lab)\n",
    "    print(f'individual accuracy of label {i}',accuracy_score(y_pred,data_y.iloc[:,i]))\n",
    "    pred[i]=y_pred\n",
    "  return pred  "
   ]
  },
  {
   "cell_type": "code",
   "execution_count": 114,
   "metadata": {},
   "outputs": [],
   "source": [
    "import numpy as np\n",
    "\n",
    "def multitask_adaboost(X_train,y_train,X_test,y_test, k_values):\n",
    "    seed_values = [0]\n",
    "    results = []\n",
    "    for k in k_values:\n",
    "        f1_list = []\n",
    "        acc_list = []\n",
    "        global pred\n",
    "        pred = pd.DataFrame()\n",
    "        for i in range(14):\n",
    "            y = y_train.iloc[:, i]\n",
    "            alphas, weights, epsilons, classifiers = Adaboost_fit(X_train, y, k)\n",
    "            y_pred = AdaBoost_pred(X_test, alphas, classifiers)\n",
    "            pred[i]=y_pred\n",
    "        f1_score = F1_score(pred.values.astype(int),y_test.values.astype(int))\n",
    "        acc = accuracy(pred.values.astype(int),y_test.values.astype(int))\n",
    "        results.append([k,f1_score,acc])\n",
    "    return k_values[np.argmax(np.array(results)[:,1])],k_values[np.argmax(np.array(results)[:,2])],np.array(results)[:,1],np.array(results)[:,2]\n"
   ]
  },
  {
   "cell_type": "code",
   "execution_count": 115,
   "metadata": {},
   "outputs": [],
   "source": [
    "def AdaBoost_pred(data_X,alpha,classifiers):\n",
    "  T=len(alpha)\n",
    "  n=len(data_X)\n",
    "  predictions=[]\n",
    "  for i in range(T):\n",
    "    predictions.append(classifiers[i].predict(data_X))\n",
    "  pred=np.zeros(n)  \n",
    "  for i in range(T):\n",
    "    pred=pred+alpha[i]*predictions[i]\n",
    "  return np.sign(pred)"
   ]
  },
  {
   "cell_type": "code",
   "execution_count": 124,
   "metadata": {},
   "outputs": [],
   "source": [
    "def testing(Test_file_location,pkl_file_Location):\n",
    "    test=pd.read_csv(Test_file_location,sep=' ',header=None)\n",
    "    with open(pkl_file_Location, 'rb') as f:\n",
    "        vi = pickle.load(f)\n",
    "    x=[]\n",
    "    y=[]\n",
    "    for i in range(test.shape[0]):\n",
    "      x_=[0 for _ in range(103)]\n",
    "      y_=[-1 for i in range(14)]\n",
    "      for j in test.iloc[i,0].split(\",\"):\n",
    "        y_[int(j)]=1\n",
    "      y.append(y_)\n",
    "      for k in range(103):\n",
    "        if len(test.iloc[i,k+1].split(\":\"))==2:\n",
    "          p,q=test.iloc[i,k+1].split(\":\")\n",
    "          x_[int(p)-1]=float(q)\n",
    "      x.append(x_)\n",
    "    X_test=pd.DataFrame(x)\n",
    "    y_test=pd.DataFrame(y)\n",
    "    predict=multitask_Adaboost_test_model(X_test,y_test,alphas_labels,classifiers_labels)\n",
    "    print('accuracy is:',accuracy(predict.values.astype(int),y_test.values.astype(int)))\n",
    "    print('f1 score is:',F1_score(predict.values.astype(int),y_test.values.astype(int)))"
   ]
  },
  {
   "cell_type": "markdown",
   "metadata": {},
   "source": [
    "# Code input Give Here"
   ]
  },
  {
   "cell_type": "code",
   "execution_count": 125,
   "metadata": {},
   "outputs": [
    {
     "name": "stdout",
     "output_type": "stream",
     "text": [
      "individual accuracy of label 0 0.8\n",
      "individual accuracy of label 1 0.58\n",
      "individual accuracy of label 2 0.76\n",
      "individual accuracy of label 3 0.64\n",
      "individual accuracy of label 4 0.68\n",
      "individual accuracy of label 5 0.58\n",
      "individual accuracy of label 6 0.78\n",
      "individual accuracy of label 7 0.82\n",
      "individual accuracy of label 8 0.98\n",
      "individual accuracy of label 9 0.84\n",
      "individual accuracy of label 10 0.82\n",
      "individual accuracy of label 11 0.6\n",
      "individual accuracy of label 12 0.62\n",
      "individual accuracy of label 13 0.98\n",
      "accuracy is: 1.0\n",
      "f1 score is: 0.5\n"
     ]
    }
   ],
   "source": [
    "testing(\"/home/22n0457/sample_multilabel_test_data.txt\",'/home/22n0457/IE506_22N0457_CHALLENGE_MODEL.pkl')"
   ]
  },
  {
   "cell_type": "code",
   "execution_count": null,
   "metadata": {},
   "outputs": [],
   "source": []
  }
 ],
 "metadata": {
  "colab": {
   "provenance": []
  },
  "kernelspec": {
   "display_name": "Python 3",
   "language": "python",
   "name": "python3"
  },
  "language_info": {
   "codemirror_mode": {
    "name": "ipython",
    "version": 3
   },
   "file_extension": ".py",
   "mimetype": "text/x-python",
   "name": "python",
   "nbconvert_exporter": "python",
   "pygments_lexer": "ipython3",
   "version": "3.9.2"
  }
 },
 "nbformat": 4,
 "nbformat_minor": 1
}
